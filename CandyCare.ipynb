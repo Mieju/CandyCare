{
 "cells": [
  {
   "cell_type": "markdown",
   "id": "9009bc80",
   "metadata": {},
   "source": [
    "# CandyCare"
   ]
  },
  {
   "cell_type": "markdown",
   "id": "71421f51",
   "metadata": {},
   "source": [
    "__PML WS 2021/22__ <br>\n",
    "_by Julian Mierisch and Anna Martynova_"
   ]
  },
  {
   "cell_type": "markdown",
   "id": "554a098b",
   "metadata": {},
   "source": [
    "### Import packages and data"
   ]
  },
  {
   "cell_type": "code",
   "execution_count": 6,
   "id": "383cc7a6",
   "metadata": {},
   "outputs": [],
   "source": [
    "import os"
   ]
  },
  {
   "cell_type": "code",
   "execution_count": null,
   "id": "81647179",
   "metadata": {},
   "outputs": [],
   "source": []
  }
 ],
 "metadata": {
  "kernelspec": {
   "display_name": "Python 3 (ipykernel)",
   "language": "python",
   "name": "python3"
  },
  "language_info": {
   "codemirror_mode": {
    "name": "ipython",
    "version": 3
   },
   "file_extension": ".py",
   "mimetype": "text/x-python",
   "name": "python",
   "nbconvert_exporter": "python",
   "pygments_lexer": "ipython3",
   "version": "3.10.1"
  }
 },
 "nbformat": 4,
 "nbformat_minor": 5
}
